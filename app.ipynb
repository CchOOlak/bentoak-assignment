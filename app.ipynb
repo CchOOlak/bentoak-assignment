{
 "cells": [
  {
   "cell_type": "code",
   "execution_count": 1,
   "metadata": {},
   "outputs": [],
   "source": [
    "import pandas as pd"
   ]
  },
  {
   "cell_type": "markdown",
   "metadata": {},
   "source": [
    "Utilities"
   ]
  },
  {
   "cell_type": "code",
   "execution_count": 89,
   "metadata": {},
   "outputs": [],
   "source": [
    "def get_filename(key):\n",
    "    return f\"RB_DishwashWeekly_GB_{key}_07072021.csv\"\n",
    "\n",
    "def explore(name, df: pd.DataFrame):\n",
    "    print(f\"Exploration of {name}\")\n",
    "    print(f\"Shape: {df.shape}\")\n",
    "    df.info()\n",
    "    print(df.describe())\n",
    "    print(\"------------------------------------------------------\")\n",
    "\n",
    "def clean(df: pd.DataFrame):\n",
    "    df.dropna()\n",
    "    df.drop_duplicates()"
   ]
  },
  {
   "cell_type": "markdown",
   "metadata": {},
   "source": [
    "load csv files into dataFrame to explore"
   ]
  },
  {
   "cell_type": "code",
   "execution_count": 40,
   "metadata": {},
   "outputs": [],
   "source": [
    "dim_df = pd.read_csv(get_filename(\"DIM\"), delimiter=\"|\")\n",
    "\n",
    "fct_df = pd.read_csv(get_filename(\"FCT\"), delimiter=\"|\")\n",
    "mkt_df = pd.read_csv(get_filename(\"MKT\"), delimiter=\"|\")\n",
    "per_df = pd.read_csv(get_filename(\"PER\"), delimiter=\"|\")\n",
    "prod_df = pd.read_csv(get_filename(\"PROD\"), delimiter=\"|\")"
   ]
  },
  {
   "cell_type": "markdown",
   "metadata": {},
   "source": [
    "Explore dataFrames"
   ]
  },
  {
   "cell_type": "code",
   "execution_count": null,
   "metadata": {},
   "outputs": [],
   "source": [
    "explore(\"dimension\", dim_df)\n",
    "explore(\"fact\", fct_df)\n",
    "explore(\"market\", mkt_df)\n",
    "explore(\"period\", per_df)\n",
    "explore(\"product\", prod_df)"
   ]
  },
  {
   "cell_type": "markdown",
   "metadata": {},
   "source": [
    "Clean dataFrames"
   ]
  },
  {
   "cell_type": "code",
   "execution_count": 57,
   "metadata": {},
   "outputs": [],
   "source": [
    "clean(mkt_df)\n",
    "clean(per_df)\n",
    "clean(prod_df)"
   ]
  },
  {
   "cell_type": "markdown",
   "metadata": {},
   "source": [
    "Our fact_data is too large, so we use chunk to transform it, and retrieve insights"
   ]
  },
  {
   "cell_type": "code",
   "execution_count": 87,
   "metadata": {},
   "outputs": [
    {
     "name": "stdout",
     "output_type": "stream",
     "text": [
      "{'F000000000000000000100000000000000000000': 'Units', 'F000000000000000000200000000000000000000': 'Volume', 'F000000000000000000300000000000000000000': 'Value', 'F000000000000000013300000000000000000000': 'ACV Distribution (w)', 'F000000000000000013400000000000000000000': 'Numeric Distribution (w)', 'F000000000000000013500000000000000000000': 'Weight. Distribution (w)', 'F000000000000000016300000000000000000000': 'Base Units', 'F000000000000000016300000000000000000001': 'Base Units (any promo)', 'F000000000000000016300000000000000000002': 'Base Units (no promo)', 'F000000000000000016300000000000000001201': 'Base Units (feat. and display)', 'F000000000000000016300000000000000001202': 'Base Units (display only)', 'F000000000000000016300000000000000001203': 'Base Units (feature only)', 'F000000000000000016300000000000000001205': 'Base Units (unsupported)', 'F000000000000000016300000000000000031001': 'Base Units (total multibuy)', 'F000000000000000016300000000000000031002': 'Base Units (feature or display)', 'F000000000000000016400000000000000000000': 'Base Volume', 'F000000000000000016400000000000000000001': 'Base Volume (any promo)', 'F000000000000000016400000000000000000002': 'Base Volume (no promo)', 'F000000000000000016400000000000000001201': 'Base Volume (feat. and display)', 'F000000000000000016400000000000000001202': 'Base Volume (display only)', 'F000000000000000016400000000000000001203': 'Base Volume (feature only)', 'F000000000000000016400000000000000001205': 'Base Volume (unsupported)', 'F000000000000000016400000000000000031001': 'Base Volume (total multibuy)', 'F000000000000000016400000000000000031002': 'Base Volume (feature or display)', 'F000000000000000016500000000000000000000': 'Base Value', 'F000000000000000016500000000000000000001': 'Base Value (any promo)', 'F000000000000000016500000000000000000002': 'Base Value (no promo)', 'F000000000000000016500000000000000001201': 'Base Value (feat. and display)', 'F000000000000000016500000000000000001202': 'Base Value (display only)', 'F000000000000000016500000000000000001203': 'Base Value (feature only)', 'F000000000000000016500000000000000001205': 'Base Value (unsupported)', 'F000000000000000016500000000000000031001': 'Base Value (total multibuy)', 'F000000000000000016500000000000000031002': 'Base Value (feature or display)', 'F000000000000000075500000000000000000000': 'Numeric Distribution', 'F000000000000000075800000000000000000000': 'Weight. Distr.', 'F000000000000000075900000000000000000000': 'ACV Distribution', 'F000000000000000102000000000000000000000': 'Stores in Universe', 'F000000000000000104800000000000000000001': 'Units (C) (any promo)', 'F000000000000000104800000000000000000002': 'Units (C) (no promo)', 'F000000000000000104800000000000000001201': 'Units (C) (feat. and display)', 'F000000000000000104800000000000000001202': 'Units (C) (display only)', 'F000000000000000104800000000000000001203': 'Units (C) (feature only)', 'F000000000000000104800000000000000001205': 'Units (C) (unsupported)', 'F000000000000000104800000000000000031001': 'Units (C) (total multibuy)', 'F000000000000000104800000000000000031002': 'Units (C) (feature or display)', 'F000000000000000104900000000000000000001': 'Volume (C) (any promo)', 'F000000000000000104900000000000000000002': 'Volume (C) (no promo)', 'F000000000000000104900000000000000001201': 'Volume (C) (feat. and display)', 'F000000000000000104900000000000000001202': 'Volume (C) (display only)', 'F000000000000000104900000000000000001203': 'Volume (C) (feature only)', 'F000000000000000104900000000000000001205': 'Volume (C) (unsupported)', 'F000000000000000104900000000000000031001': 'Volume (C) (total multibuy)', 'F000000000000000104900000000000000031002': 'Volume (C) (feature or display)', 'F000000000000000105000000000000000000001': 'Value (C) (any promo)', 'F000000000000000105000000000000000000002': 'Value (C) (no promo)', 'F000000000000000105000000000000000001201': 'Value (C) (feat. and display)', 'F000000000000000105000000000000000001202': 'Value (C) (display only)', 'F000000000000000105000000000000000001203': 'Value (C) (feature only)', 'F000000000000000105000000000000000001205': 'Value (C) (unsupported)', 'F000000000000000105000000000000000031001': 'Value (C) (total multibuy)', 'F000000000000000105000000000000000031002': 'Value (C) (feature or display)', 'F000000000000000105100000000000000000001': 'ACV Distribution (C) (any promo)', 'F000000000000000105100000000000000001201': 'ACV Distribution (C) (feat. and display)', 'F000000000000000105100000000000000001202': 'ACV Distribution (C) (display only)', 'F000000000000000105100000000000000001203': 'ACV Distribution (C) (feature only)', 'F000000000000000105100000000000000001205': 'ACV Distribution (C) (unsupported)', 'F000000000000000105100000000000000031001': 'ACV Distribution (C) (total multibuy)', 'F000000000000000105100000000000000031002': 'ACV Distribution (C) (feature or display)', 'F000000000000000105200000000000000000001': 'Numeric Distribution (w) (C) (any promo)', 'F000000000000000105200000000000000001201': 'Numeric Distribution (w) (C) (feat. and display)', 'F000000000000000105200000000000000001202': 'Numeric Distribution (w) (C) (display only)', 'F000000000000000105200000000000000001203': 'Numeric Distribution (w) (C) (feature only)', 'F000000000000000105200000000000000001205': 'Numeric Distribution (w) (C) (unsupported)', 'F000000000000000105200000000000000031001': 'Numeric Distribution (w) (C) (total multibuy)', 'F000000000000000105200000000000000031002': 'Numeric Distribution (w) (C) (feature or display)', 'F000000000000000105300000000000000000001': 'Weight. Distribution (C) (any promo)', 'F000000000000000105300000000000000001201': 'Weight. Distribution (C) (feat. and display)', 'F000000000000000105300000000000000001202': 'Weight. Distribution (C) (display only)', 'F000000000000000105300000000000000001203': 'Weight. Distribution (C) (feature only)', 'F000000000000000105300000000000000001205': 'Weight. Distribution (C) (unsupported)', 'F000000000000000105300000000000000031001': 'Weight. Distribution (C) (total multibuy)', 'F000000000000000105300000000000000031002': 'Weight. Distribution (C) (feature or display)', 'F000000000000000106900000000000000000000': 'TDP (w)', 'F000000000000000106900000000000000000001': 'TDP (w) (any promo)', 'F000000000000000106900000000000000000002': 'TDP (w) (no promo)', 'F000000000000000106900000000000000001201': 'TDP (w) (feat. and display)', 'F000000000000000106900000000000000001202': 'TDP (w) (display only)', 'F000000000000000106900000000000000001203': 'TDP (w) (feature only)', 'F000000000000000106900000000000000001205': 'TDP (w) (unsupported)', 'F000000000000000106900000000000000031001': 'TDP (w) (total multibuy)', 'F000000000000000106900000000000000031002': 'TDP (w) (feature or display)', 'F000000000000000107000000000000000000000': 'TDP', 'F000000000000000107000000000000000000001': 'TDP (any promo)', 'F000000000000000107000000000000000000002': 'TDP (no promo)', 'F000000000000000107000000000000000001201': 'TDP (feat. and display)', 'F000000000000000107000000000000000001202': 'TDP (display only)', 'F000000000000000107000000000000000001203': 'TDP (feature only)', 'F000000000000000107000000000000000001205': 'TDP (unsupported)', 'F000000000000000107000000000000000031001': 'TDP (total multibuy)', 'F000000000000000107000000000000000031002': 'TDP (feature or display)', 'F000000000000000145900000000000000000000': 'Sales Eq.2', 'F000000000000000148600000000000000000001': 'Sales Eq.2 CAU (any promo)', 'F000000000000000161000000000000000000000': 'AC WEIGHT AVERAGE NUMBER SKU (w)', 'F000000000000000161000000000000000001202': 'AC WEIGHT AVERAGE NUMBER SKU (w) (display only)', 'F000000000000000161000000000000000001203': 'AC WEIGHT AVERAGE NUMBER SKU (w) (feature only)', 'F000000000000000014500000000000000000000': 'Price per Eq.', 'F000000000000000521800000000000000000000': 'Total ACV distribution points  (w)', 'F000000000000000521800000000000000000001': 'Total ACV distribution points  (w) (any promo)', 'F000000000000000521800000000000000000002': 'Total ACV distribution points  (w) (no promo)', 'F000000000000000521800000000000000001201': 'Total ACV distribution points  (w) (feat. and display)', 'F000000000000000521800000000000000001202': 'Total ACV distribution points  (w) (display only)', 'F000000000000000521800000000000000001203': 'Total ACV distribution points  (w) (feature only)', 'F000000000000000521800000000000000001205': 'Total ACV distribution points  (w) (unsupported)', 'F000000000000000521800000000000000031001': 'Total ACV distribution points  (w) (total multibuy)', 'F000000000000000521800000000000000031002': 'Total ACV distribution points  (w) (feature or display)', 'F000000000000000521900000000000000000000': 'Total ACV distribution points', 'F000000000000000521900000000000000000001': 'Total ACV distribution points (any promo)', 'F000000000000000521900000000000000000002': 'Total ACV distribution points (no promo)', 'F000000000000000521900000000000000001201': 'Total ACV distribution points (feat. and display)', 'F000000000000000521900000000000000001202': 'Total ACV distribution points (display only)', 'F000000000000000521900000000000000001203': 'Total ACV distribution points (feature only)', 'F000000000000000521900000000000000001205': 'Total ACV distribution points (unsupported)', 'F000000000000000521900000000000000031001': 'Total ACV distribution points (total multibuy)', 'F000000000000000521900000000000000031002': 'Total ACV distribution points (feature or display)'}\n"
     ]
    }
   ],
   "source": [
    "rename_criteria = {row[\"TAG\"]: row[\"SHORT\"] for _, row in fct_df.iterrows()}\n",
    "print(rename_criteria)\n",
    "\n",
    "def process(chunk: pd.DataFrame):\n",
    "    clean(chunk)\n",
    "    # rename fact columns\n",
    "    chunk.rename(columns=rename_criteria, inplace=True)\n",
    "    chunk = chunk.merge(mkt_df, left_on=\"MKT_TAG\", right_on=\"TAG\", how=\"left\")\\\n",
    "                 .merge(per_df, left_on=\"PER_TAG\", right_on=\"TAG\", how=\"left\")\\\n",
    "                 .merge(prod_df, left_on=\"PROD_TAG\", right_on=\"TAG\")\n",
    "    explore(\"chunk\", chunk)\n"
   ]
  },
  {
   "cell_type": "code",
   "execution_count": 90,
   "metadata": {},
   "outputs": [
    {
     "name": "stdout",
     "output_type": "stream",
     "text": [
      "Exploration of chunk\n",
      "Shape: (1000, 180)\n",
      "<class 'pandas.core.frame.DataFrame'>\n",
      "RangeIndex: 1000 entries, 0 to 999\n",
      "Columns: 180 entries, MKT_TAG to RB SUMMARY SIZE RANGE\n",
      "dtypes: float64(128), int64(8), object(44)\n",
      "memory usage: 1.4+ MB\n",
      "              Units        Volume         Value  ACV Distribution (w)  \\\n",
      "count  8.440000e+02  8.440000e+02  8.440000e+02            828.000000   \n",
      "mean   7.467226e+04  2.944665e+06  3.978938e+05              9.280193   \n",
      "std    4.371115e+05  2.265833e+07  2.212409e+06             15.673011   \n",
      "min   -1.000000e+01 -1.000000e+03 -1.000000e+02              0.000000   \n",
      "25%    1.792500e+02  4.320000e+03  1.009000e+03              0.000000   \n",
      "50%    3.860000e+03  7.238500e+04  1.533850e+04              1.000000   \n",
      "75%    4.829000e+04  1.188159e+06  2.608462e+05             12.000000   \n",
      "max    1.011714e+07  5.760262e+08  4.457382e+07             86.000000   \n",
      "\n",
      "       Numeric Distribution (w)  Weight. Distribution (w)  Base Units  \\\n",
      "count                828.000000                828.000000         0.0   \n",
      "mean                   1.265700                 13.984300         NaN   \n",
      "std                    3.178591                 22.107761         NaN   \n",
      "min                    0.000000                  0.000000         NaN   \n",
      "25%                    0.000000                  0.000000         NaN   \n",
      "50%                    0.000000                  3.000000         NaN   \n",
      "75%                    1.000000                 19.250000         NaN   \n",
      "max                   41.000000                100.000000         NaN   \n",
      "\n",
      "       Base Units (any promo)  Base Units (no promo)  \\\n",
      "count                     0.0                    0.0   \n",
      "mean                      NaN                    NaN   \n",
      "std                       NaN                    NaN   \n",
      "min                       NaN                    NaN   \n",
      "25%                       NaN                    NaN   \n",
      "50%                       NaN                    NaN   \n",
      "75%                       NaN                    NaN   \n",
      "max                       NaN                    NaN   \n",
      "\n",
      "       Base Units (feat. and display)  ...  HIER_LEVEL_NUM_x  DISPLAY_ORDER_y  \\\n",
      "count                             0.0  ...            1000.0           1000.0   \n",
      "mean                              NaN  ...               1.0              1.0   \n",
      "std                               NaN  ...               0.0              0.0   \n",
      "min                               NaN  ...               1.0              1.0   \n",
      "25%                               NaN  ...               1.0              1.0   \n",
      "50%                               NaN  ...               1.0              1.0   \n",
      "75%                               NaN  ...               1.0              1.0   \n",
      "max                               NaN  ...               1.0              1.0   \n",
      "\n",
      "       PARENT_TAG_y  HIER_NUM_y  HIER_NAME_y  HIER_LEVEL_NUM_y  \\\n",
      "count           0.0         0.0          0.0               0.0   \n",
      "mean            NaN         NaN          NaN               NaN   \n",
      "std             NaN         NaN          NaN               NaN   \n",
      "min             NaN         NaN          NaN               NaN   \n",
      "25%             NaN         NaN          NaN               NaN   \n",
      "50%             NaN         NaN          NaN               NaN   \n",
      "75%             NaN         NaN          NaN               NaN   \n",
      "max             NaN         NaN          NaN               NaN   \n",
      "\n",
      "       HIER_LEVEL_NAME_y  DISPLAY_ORDER  HIER_NUM  HIER_LEVEL_NUM  \n",
      "count                0.0    1000.000000    1000.0     1000.000000  \n",
      "mean                 NaN     852.328000       1.0        7.117000  \n",
      "std                  NaN     517.986313       0.0        1.586767  \n",
      "min                  NaN       1.000000       1.0        1.000000  \n",
      "25%                  NaN     378.750000       1.0        6.000000  \n",
      "50%                  NaN     863.500000       1.0        7.000000  \n",
      "75%                  NaN    1285.250000       1.0        8.000000  \n",
      "max                  NaN    1734.000000       1.0        9.000000  \n",
      "\n",
      "[8 rows x 136 columns]\n",
      "------------------------------------------------------\n"
     ]
    }
   ],
   "source": [
    "with pd.read_csv(get_filename(\"fact_data\"), delimiter=\"|\", chunksize=1000) as reader:\n",
    "    for chunk in reader:\n",
    "        process(chunk)"
   ]
  }
 ],
 "metadata": {
  "kernelspec": {
   "display_name": "bo",
   "language": "python",
   "name": "python3"
  },
  "language_info": {
   "codemirror_mode": {
    "name": "ipython",
    "version": 3
   },
   "file_extension": ".py",
   "mimetype": "text/x-python",
   "name": "python",
   "nbconvert_exporter": "python",
   "pygments_lexer": "ipython3",
   "version": "3.11.6"
  },
  "orig_nbformat": 4
 },
 "nbformat": 4,
 "nbformat_minor": 2
}
