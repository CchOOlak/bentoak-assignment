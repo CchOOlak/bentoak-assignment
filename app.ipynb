{
 "cells": [
  {
   "cell_type": "code",
   "execution_count": 1,
   "metadata": {},
   "outputs": [],
   "source": [
    "import pandas as pd"
   ]
  },
  {
   "cell_type": "markdown",
   "metadata": {},
   "source": [
    "Utilities"
   ]
  },
  {
   "cell_type": "code",
   "execution_count": 89,
   "metadata": {},
   "outputs": [],
   "source": [
    "def get_filename(key):\n",
    "    return f\"RB_DishwashWeekly_GB_{key}_07072021.csv\"\n",
    "\n",
    "def explore(name, df: pd.DataFrame):\n",
    "    print(f\"Exploration of {name}\")\n",
    "    print(f\"Shape: {df.shape}\")\n",
    "    df.info()\n",
    "    print(df.describe())\n",
    "    print(\"------------------------------------------------------\")\n",
    "\n",
    "def clean(df: pd.DataFrame):\n",
    "    df.dropna()\n",
    "    df.drop_duplicates()"
   ]
  },
  {
   "cell_type": "markdown",
   "metadata": {},
   "source": [
    "load csv files into dataFrame to explore"
   ]
  },
  {
   "cell_type": "code",
   "execution_count": 40,
   "metadata": {},
   "outputs": [],
   "source": [
    "dim_df = pd.read_csv(get_filename(\"DIM\"), delimiter=\"|\")\n",
    "\n",
    "fct_df = pd.read_csv(get_filename(\"FCT\"), delimiter=\"|\")\n",
    "mkt_df = pd.read_csv(get_filename(\"MKT\"), delimiter=\"|\")\n",
    "per_df = pd.read_csv(get_filename(\"PER\"), delimiter=\"|\")\n",
    "prod_df = pd.read_csv(get_filename(\"PROD\"), delimiter=\"|\")"
   ]
  },
  {
   "cell_type": "markdown",
   "metadata": {},
   "source": [
    "Explore dataFrames"
   ]
  },
  {
   "cell_type": "code",
   "execution_count": null,
   "metadata": {},
   "outputs": [],
   "source": [
    "explore(\"dimension\", dim_df)\n",
    "explore(\"fact\", fct_df)\n",
    "explore(\"market\", mkt_df)\n",
    "explore(\"period\", per_df)\n",
    "explore(\"product\", prod_df)"
   ]
  },
  {
   "cell_type": "markdown",
   "metadata": {},
   "source": [
    "Clean dataFrames"
   ]
  },
  {
   "cell_type": "code",
   "execution_count": 57,
   "metadata": {},
   "outputs": [],
   "source": [
    "clean(mkt_df)\n",
    "clean(per_df)\n",
    "clean(prod_df)"
   ]
  },
  {
   "cell_type": "markdown",
   "metadata": {},
   "source": [
    "Our fact_data is too large, so we use chunk to transform it, and retrieve insights"
   ]
  },
  {
   "cell_type": "code",
   "execution_count": 1,
   "metadata": {},
   "outputs": [
    {
     "ename": "NameError",
     "evalue": "name 'fct_df' is not defined",
     "output_type": "error",
     "traceback": [
      "\u001b[0;31m---------------------------------------------------------------------------\u001b[0m",
      "\u001b[0;31mNameError\u001b[0m                                 Traceback (most recent call last)",
      "Cell \u001b[0;32mIn[1], line 1\u001b[0m\n\u001b[0;32m----> 1\u001b[0m rename_criteria \u001b[39m=\u001b[39m {row[\u001b[39m\"\u001b[39m\u001b[39mTAG\u001b[39m\u001b[39m\"\u001b[39m]: row[\u001b[39m\"\u001b[39m\u001b[39mSHORT\u001b[39m\u001b[39m\"\u001b[39m] \u001b[39mfor\u001b[39;00m _, row \u001b[39min\u001b[39;00m fct_df\u001b[39m.\u001b[39miterrows()}\n\u001b[1;32m      2\u001b[0m \u001b[39mprint\u001b[39m(rename_criteria)\n\u001b[1;32m      4\u001b[0m \u001b[39mdef\u001b[39;00m \u001b[39mprocess\u001b[39m(chunk: pd\u001b[39m.\u001b[39mDataFrame):\n",
      "\u001b[0;31mNameError\u001b[0m: name 'fct_df' is not defined"
     ]
    }
   ],
   "source": [
    "rename_criteria = {row[\"TAG\"]: row[\"SHORT\"] for _, row in fct_df.iterrows()}\n",
    "print(rename_criteria)\n",
    "\n",
    "def process(chunk: pd.DataFrame):\n",
    "    clean(chunk)\n",
    "    # rename fact columns\n",
    "    chunk.rename(columns=rename_criteria, inplace=True)\n",
    "    chunk = chunk.merge(mkt_df, left_on=\"MKT_TAG\", right_on=\"TAG\", how=\"left\")\\\n",
    "                 .merge(per_df, left_on=\"PER_TAG\", right_on=\"TAG\", how=\"left\")\\\n",
    "                 .merge(prod_df, left_on=\"PROD_TAG\", right_on=\"TAG\")\n",
    "    explore(\"chunk\", chunk)\n",
    "    # we can add chunked data to other dataFrame or file or database here\n"
   ]
  },
  {
   "cell_type": "code",
   "execution_count": 90,
   "metadata": {},
   "outputs": [
    {
     "name": "stdout",
     "output_type": "stream",
     "text": [
      "Exploration of chunk\n",
      "Shape: (1000, 180)\n",
      "<class 'pandas.core.frame.DataFrame'>\n",
      "RangeIndex: 1000 entries, 0 to 999\n",
      "Columns: 180 entries, MKT_TAG to RB SUMMARY SIZE RANGE\n",
      "dtypes: float64(128), int64(8), object(44)\n",
      "memory usage: 1.4+ MB\n",
      "              Units        Volume         Value  ACV Distribution (w)  \\\n",
      "count  8.440000e+02  8.440000e+02  8.440000e+02            828.000000   \n",
      "mean   7.467226e+04  2.944665e+06  3.978938e+05              9.280193   \n",
      "std    4.371115e+05  2.265833e+07  2.212409e+06             15.673011   \n",
      "min   -1.000000e+01 -1.000000e+03 -1.000000e+02              0.000000   \n",
      "25%    1.792500e+02  4.320000e+03  1.009000e+03              0.000000   \n",
      "50%    3.860000e+03  7.238500e+04  1.533850e+04              1.000000   \n",
      "75%    4.829000e+04  1.188159e+06  2.608462e+05             12.000000   \n",
      "max    1.011714e+07  5.760262e+08  4.457382e+07             86.000000   \n",
      "\n",
      "       Numeric Distribution (w)  Weight. Distribution (w)  Base Units  \\\n",
      "count                828.000000                828.000000         0.0   \n",
      "mean                   1.265700                 13.984300         NaN   \n",
      "std                    3.178591                 22.107761         NaN   \n",
      "min                    0.000000                  0.000000         NaN   \n",
      "25%                    0.000000                  0.000000         NaN   \n",
      "50%                    0.000000                  3.000000         NaN   \n",
      "75%                    1.000000                 19.250000         NaN   \n",
      "max                   41.000000                100.000000         NaN   \n",
      "\n",
      "       Base Units (any promo)  Base Units (no promo)  \\\n",
      "count                     0.0                    0.0   \n",
      "mean                      NaN                    NaN   \n",
      "std                       NaN                    NaN   \n",
      "min                       NaN                    NaN   \n",
      "25%                       NaN                    NaN   \n",
      "50%                       NaN                    NaN   \n",
      "75%                       NaN                    NaN   \n",
      "max                       NaN                    NaN   \n",
      "\n",
      "       Base Units (feat. and display)  ...  HIER_LEVEL_NUM_x  DISPLAY_ORDER_y  \\\n",
      "count                             0.0  ...            1000.0           1000.0   \n",
      "mean                              NaN  ...               1.0              1.0   \n",
      "std                               NaN  ...               0.0              0.0   \n",
      "min                               NaN  ...               1.0              1.0   \n",
      "25%                               NaN  ...               1.0              1.0   \n",
      "50%                               NaN  ...               1.0              1.0   \n",
      "75%                               NaN  ...               1.0              1.0   \n",
      "max                               NaN  ...               1.0              1.0   \n",
      "\n",
      "       PARENT_TAG_y  HIER_NUM_y  HIER_NAME_y  HIER_LEVEL_NUM_y  \\\n",
      "count           0.0         0.0          0.0               0.0   \n",
      "mean            NaN         NaN          NaN               NaN   \n",
      "std             NaN         NaN          NaN               NaN   \n",
      "min             NaN         NaN          NaN               NaN   \n",
      "25%             NaN         NaN          NaN               NaN   \n",
      "50%             NaN         NaN          NaN               NaN   \n",
      "75%             NaN         NaN          NaN               NaN   \n",
      "max             NaN         NaN          NaN               NaN   \n",
      "\n",
      "       HIER_LEVEL_NAME_y  DISPLAY_ORDER  HIER_NUM  HIER_LEVEL_NUM  \n",
      "count                0.0    1000.000000    1000.0     1000.000000  \n",
      "mean                 NaN     852.328000       1.0        7.117000  \n",
      "std                  NaN     517.986313       0.0        1.586767  \n",
      "min                  NaN       1.000000       1.0        1.000000  \n",
      "25%                  NaN     378.750000       1.0        6.000000  \n",
      "50%                  NaN     863.500000       1.0        7.000000  \n",
      "75%                  NaN    1285.250000       1.0        8.000000  \n",
      "max                  NaN    1734.000000       1.0        9.000000  \n",
      "\n",
      "[8 rows x 136 columns]\n",
      "------------------------------------------------------\n"
     ]
    }
   ],
   "source": [
    "with pd.read_csv(get_filename(\"fact_data\"), delimiter=\"|\", chunksize=1000) as reader:\n",
    "    for chunk in reader:\n",
    "        process(chunk)"
   ]
  }
 ],
 "metadata": {
  "kernelspec": {
   "display_name": "bo",
   "language": "python",
   "name": "python3"
  },
  "language_info": {
   "codemirror_mode": {
    "name": "ipython",
    "version": 3
   },
   "file_extension": ".py",
   "mimetype": "text/x-python",
   "name": "python",
   "nbconvert_exporter": "python",
   "pygments_lexer": "ipython3",
   "version": "3.11.6"
  },
  "orig_nbformat": 4
 },
 "nbformat": 4,
 "nbformat_minor": 2
}
